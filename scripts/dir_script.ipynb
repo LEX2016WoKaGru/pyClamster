{
 "cells": [
  {
   "cell_type": "code",
   "execution_count": 1,
   "metadata": {
    "collapsed": false
   },
   "outputs": [],
   "source": [
    "%load_ext autoreload\n",
    "%autoreload 2\n",
    "# System modules\n",
    "import os\n",
    "import warnings\n",
    "import pickle\n",
    "import glob\n",
    "import sys\n",
    "import logging\n",
    "import datetime as dt\n",
    "import time\n",
    "\n",
    "# External modules\n",
    "import numpy as np\n",
    "import scipy.misc\n",
    "import matplotlib.pyplot as plt\n",
    "from matplotlib.backends.backend_pdf import PdfPages\n",
    "import pandas as pd\n",
    "\n",
    "# Internal modules\n",
    "import pyclamster\n",
    "from pyclamster.clustering.preprocess import LCN\n",
    "from pyclamster.functions import rbDetection\n",
    "from pyclamster.positioning import Projection\n",
    "\n",
    "plt.style.use('ggplot')\n",
    "\n",
    "warnings.catch_warnings()\n",
    "warnings.filterwarnings('ignore')\n",
    "\n",
    "logging.basicConfig(level=logging.DEBUG)"
   ]
  },
  {
   "cell_type": "code",
   "execution_count": 2,
   "metadata": {
    "collapsed": false
   },
   "outputs": [],
   "source": [
    "FILE_DIR = %pwd\n",
    "BASE_DIR = os.path.dirname(FILE_DIR)\n",
    "#image_directory = os.path.join(BASE_DIR, \"examples\", \"images\", \"lex\")\n",
    "image_directory = '/home/tfinn/Data/Cloud_camera/lex/'\n",
    "trained_models = os.path.join(BASE_DIR, \"data\")\n",
    "plot_dir = os.path.join(BASE_DIR, 'plots')\n",
    "\n",
    "debug = False"
   ]
  },
  {
   "cell_type": "code",
   "execution_count": 3,
   "metadata": {
    "collapsed": false
   },
   "outputs": [],
   "source": [
    "predictor = pickle.load(open(os.path.join(trained_models, \"kmeans.pk\"), \"rb\"))\n",
    "\n",
    "cams = []\n",
    "cams.append(pickle.load(open(os.path.join(trained_models, 'sessions', 'FE3_session_new.pk'), mode='rb')))\n",
    "cams.append(pickle.load(open(os.path.join(trained_models, 'sessions', 'FE4_session_new.pk'), mode='rb')))\n",
    "cams[0].set_images(os.path.join(image_directory, 'cam3'))\n",
    "cams[1].set_images(os.path.join(image_directory, 'cam4'))\n",
    "matching = pyclamster.matching.Matching(greyscale=True)\n",
    "dist = np.sqrt((cams[0].position.x-cams[1].position.x)**2+(cams[0].position.y-cams[1].position.y)**2)\n",
    "\n",
    "height = {}"
   ]
  },
  {
   "cell_type": "code",
   "execution_count": 4,
   "metadata": {
    "collapsed": false
   },
   "outputs": [],
   "source": [
    "def generate_doppel(images):\n",
    "    start_time = time.time()\n",
    "    k = 0\n",
    "    clouds = []\n",
    "    height[images[0].time] = []\n",
    "    for img in images:\n",
    "        image_lcn = pyclamster.Image(img)\n",
    "        image_lcn.data = LCN(size=(50, 50, 3), scale=False).fit_transform(\n",
    "            image_lcn.data / 256)\n",
    "        w, h, _ = original_shape = image_lcn.data.shape\n",
    "        raw_image_lcn = rbDetection(image_lcn.data).reshape((w * h, -1))\n",
    "        label = predictor.predict(raw_image_lcn)\n",
    "        label.reshape((w, h), replace=True)\n",
    "        masks = label.getMaskStore()\n",
    "        cloud_mask_num = [0] # cloud - sky choose right number (0 or 1)\n",
    "        masks.denoise(cloud_mask_num, 5000)\n",
    "        #cloud_labels_object, numLabels = masks.labelMask(cloud_mask_num)\n",
    "        #cloud_labels_object, numLabels = masks.wsMask(cloud_mask_num, np.ones((14,14)))\n",
    "        cloud_labels_object, numLabels = masks.regionMask(cloud_mask_num, (50, 50))\n",
    "        cloud_store = cloud_labels_object.getMaskStore()\n",
    "        cloud_lables = np.unique(cloud_labels_object.labels)[1:]\n",
    "        clouds.append([cloud_store.getCloud(img, [k, ]) for k in cloud_lables])\n",
    "        if debug:\n",
    "            j = 0\n",
    "            scipy.misc.imsave(\n",
    "                os.path.join(plot_dir, \"lables_kmean_{0:s}_{1:d}.png\".format(img.time.strftime('%Y%m%d%H%M'), k)),\n",
    "                             label.labels)\n",
    "            scipy.misc.imsave(\n",
    "                os.path.join(plot_dir, \"lables_used_{0:s}_{1:d}.png\".format(img.time.strftime('%Y%m%d%H%M'), k)),\n",
    "                             cloud_labels_object.labels)\n",
    "            print('finished image {0:s} of camera {1:d}'.format(img.time.strftime('%Y%m%d%H%M'), k))\n",
    "        k += 1\n",
    "    t=0\n",
    "    if not(not clouds[0] or not clouds[1]):\n",
    "        matching_result, _ = matching.matching(clouds[0], clouds[1], min_match_prob=0.95)\n",
    "        for result in matching_result:\n",
    "            spatial_cloud = result[1]\n",
    "            successful = spatial_cloud.oper_mode()\n",
    "            if debug and successful:\n",
    "                fig = plt.figure()\n",
    "                ax = plt.subplot(1,3,1)\n",
    "                ax.axis('off')\n",
    "                ax.imshow(result[1].clouds[0].image.data)\n",
    "                ax = plt.subplot(1,3,2)\n",
    "                ax.axis('off')\n",
    "                ax.imshow(result[0].prob_map, interpolation='nearest')\n",
    "                ax = plt.subplot(1,3,3)\n",
    "                ax.axis('off')\n",
    "                ax.imshow(result[1].clouds[1].image.data)\n",
    "                plt.tight_layout()\n",
    "                plt.savefig(os.path.join(plot_dir, 'matching_{0:s}_{1:d}.png'.format(img.time.strftime('%Y%m%d%H%M'), t)))\n",
    "                fig = plt.figure()\n",
    "                ax = plt.subplot(1,3,1)\n",
    "                ax.axis('off')\n",
    "                ax.imshow(spatial_cloud.clouds[0].image.data)\n",
    "                ax = plt.subplot(1,3,2)\n",
    "                ax.axis('off')\n",
    "                z = spatial_cloud.positions.z\n",
    "                X, Y = np.meshgrid(range(z.shape[1]), range(z.shape[0]))\n",
    "                CS = ax.contour(X, Y, z)\n",
    "                manual_locations = [(-1, -1.4), (-0.62, -0.7), (-2, 0.5), (1.7, 1.2), (2.0, 1.4), (2.4, 1.7)]\n",
    "                plt.clabel(CS, inline=1, fontsize=10)\n",
    "                ax = plt.subplot(1,3,3)\n",
    "                ax.axis('off')\n",
    "                ax.imshow(spatial_cloud.clouds[1].image.data)\n",
    "                plt.tight_layout()\n",
    "                plt.savefig(os.path.join(plot_dir, 'height{0:s}_{1:d}.png'.format(img.time.strftime('%Y%m%d%H%M'), t)))\n",
    "            height[images[0].time].append(spatial_cloud.height)\n",
    "            t+=1\n",
    "    try:      \n",
    "        print('finished image {0:s} calculations with {1:d} heights (min: {2:.1f}, max: {3:.1f}), duration: {4:.1f} s'.format(images[0].time.strftime('%Y%m%d%H%M'), t, np.nanmin(height[images[0].time]), np.nanmax(height[images[0].time]), time.time()-start_time))\n",
    "    except:\n",
    "        print('finished image {0:s} calculations with {1:d} heights, duration: {2:.1f} s'.format(images[0].time.strftime('%Y%m%d%H%M'), t, time.time()-start_time))"
   ]
  },
  {
   "cell_type": "code",
   "execution_count": null,
   "metadata": {
    "collapsed": false,
    "scrolled": true
   },
   "outputs": [
    {
     "name": "stdout",
     "output_type": "stream",
     "text": [
      "finished image 201609010900 calculations with 14 heights (min: -12426.4, max: 16835.6), duration: 13.0 s\n",
      "finished image 201609010901 calculations with 14 heights (min: -10052.0, max: 7011.8), duration: 13.7 s\n",
      "finished image 201609010902 calculations with 14 heights (min: -25300.5, max: 5632.4), duration: 13.4 s\n",
      "finished image 201609010903 calculations with 14 heights (min: -4594.1, max: 13974.4), duration: 13.1 s\n",
      "finished image 201609010904 calculations with 18 heights (min: -5614.9, max: 7549.9), duration: 13.1 s\n"
     ]
    }
   ],
   "source": [
    "images_available = True\n",
    "gens = [cams[0].iterate_over_rectified_images(), cams[1].iterate_over_rectified_images()]\n",
    "images = [next(gens[0]), next(gens[1])]\n",
    "while images_available:\n",
    "    for k, img in enumerate(images):\n",
    "        img.loadTimefromfilename('FE{0:d}_Image_%Y%m%d_%H%M%S_UTCp1.jpg'.format(k+3))\n",
    "    if (images[0].time-images[1].time).seconds<60:\n",
    "        generate_doppel(images)\n",
    "        try:\n",
    "            images = [next(gens[0]), next(gens[1])]\n",
    "        except:\n",
    "            images_available = False\n",
    "    elif images[0].time<images[1].time:\n",
    "        try:\n",
    "            images[0] = next(gens[0])\n",
    "        except:\n",
    "            images_available = False\n",
    "    elif images[0].time>images[1].time:\n",
    "        try:\n",
    "            images[1] = next(gens[1])\n",
    "        except:\n",
    "            images_available = False\n",
    "print('finished image processing')"
   ]
  },
  {
   "cell_type": "code",
   "execution_count": 11,
   "metadata": {
    "collapsed": false
   },
   "outputs": [],
   "source": [
    "max_len = np.max([len(height[i]) for i in height.keys()])\n",
    "df_height = pd.DataFrame(columns=range(max_len), index=height.keys())\n",
    "for i in df_height.index:\n",
    "    for k, j in enumerate(height[i]):\n",
    "        if not j is None:\n",
    "            if 70<j<15000:\n",
    "                df_height.ix[i, k] = j\n",
    "df_height = df_height.sort()\n",
    "df_height.to_json(os.path.join(trained_models, 'heights_201609010900_4h_300_new.json'))"
   ]
  },
  {
   "cell_type": "code",
   "execution_count": null,
   "metadata": {
    "collapsed": true
   },
   "outputs": [],
   "source": []
  }
 ],
 "metadata": {
  "anaconda-cloud": {},
  "kernelspec": {
   "display_name": "Python [Root]",
   "language": "python",
   "name": "Python [Root]"
  },
  "language_info": {
   "codemirror_mode": {
    "name": "ipython",
    "version": 3
   },
   "file_extension": ".py",
   "mimetype": "text/x-python",
   "name": "python",
   "nbconvert_exporter": "python",
   "pygments_lexer": "ipython3",
   "version": "3.5.2"
  }
 },
 "nbformat": 4,
 "nbformat_minor": 0
}
