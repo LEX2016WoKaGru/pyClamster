{
 "cells": [
  {
   "cell_type": "code",
   "execution_count": 7,
   "metadata": {
    "collapsed": false
   },
   "outputs": [
    {
     "name": "stdout",
     "output_type": "stream",
     "text": [
      "The autoreload extension is already loaded. To reload it, use:\n",
      "  %reload_ext autoreload\n"
     ]
    }
   ],
   "source": [
    "%load_ext autoreload\n",
    "%autoreload 2\n",
    "# System modules\n",
    "import os\n",
    "import warnings\n",
    "import pickle\n",
    "import glob\n",
    "import sys\n",
    "import logging\n",
    "\n",
    "# External modules\n",
    "import numpy as np\n",
    "import scipy.misc\n",
    "import matplotlib.pyplot as plt\n",
    "import simplekml\n",
    "\n",
    "# Internal modules\n",
    "import pyclamster\n",
    "from pyclamster.clustering.preprocess import LCN\n",
    "from pyclamster.functions import rbDetection\n",
    "from pyclamster.positioning import Projection\n",
    "\n",
    "warnings.catch_warnings()\n",
    "warnings.filterwarnings('ignore')\n",
    "\n",
    "logging.basicConfig(level=logging.DEBUG)"
   ]
  },
  {
   "cell_type": "code",
   "execution_count": 2,
   "metadata": {
    "collapsed": false
   },
   "outputs": [],
   "source": [
    "FILE_DIR = %pwd\n",
    "BASE_DIR = os.path.dirname(FILE_DIR)\n",
    "\n",
    "image_directory = os.path.join(BASE_DIR, \"examples\", \"images\", \"lex\")\n",
    "trained_models = os.path.join(BASE_DIR, \"data\")\n",
    "plot_dir = os.path.join(BASE_DIR, 'plots')\n",
    "\n",
    "kml_file = simplekml.Kml()\n"
   ]
  },
  {
   "cell_type": "code",
   "execution_count": 3,
   "metadata": {
    "collapsed": false
   },
   "outputs": [],
   "source": [
    "predictor = pickle.load(open(os.path.join(trained_models, \"kmeans.pk\"), \"rb\"))\n",
    "\n",
    "cams = []\n",
    "cams.append(pickle.load(open(os.path.join(trained_models, 'sessions', 'FE3_session.pk'), mode='rb')))\n",
    "cams.append(pickle.load(open(os.path.join(trained_models, 'sessions', 'FE4_session.pk'), mode='rb')))\n",
    "cams[0].set_images(os.path.join(image_directory, 'cam3'))\n",
    "cams[1].set_images(os.path.join(image_directory, 'cam4'))\n",
    "matching = pyclamster.matching.Matching()"
   ]
  },
  {
   "cell_type": "code",
   "execution_count": 4,
   "metadata": {
    "collapsed": false
   },
   "outputs": [],
   "source": [
    "times = {'3': [], '4': []}\n",
    "for img3 in cams[0]:\n",
    "    img3.loadTimefromfilename('FE3_Image_%Y%m%d_%H%M%S_UTCp1.jpg')\n",
    "    times['3'].append(img3.time)\n",
    "\n",
    "for img4 in cams[1]:\n",
    "    img4.loadTimefromfilename('FE4_Image_%Y%m%d_%H%M%S_UTCp1.jpg')\n",
    "    times['4'].append(img4.time)\n",
    "\n",
    "key_pair = [(k, times['4'].index(t)) for k, t in enumerate(times['3']) if t in times['4']]"
   ]
  },
  {
   "cell_type": "code",
   "execution_count": null,
   "metadata": {
    "collapsed": false
   },
   "outputs": [
    {
     "name": "stdout",
     "output_type": "stream",
     "text": [
      "finished image 0 of camera 0\n",
      "<class 'numpy.ndarray'>\n",
      "finished image 0 of camera 1\n",
      "<class 'numpy.ndarray'>\n",
      "(masked_array(data =\n",
      " [[ 54.4800559   54.48063329  54.48123508 ...,  54.58839175  54.58804686\n",
      "   54.58767972]\n",
      " [ 54.47997995  54.48054873  54.48114212 ...,  54.5875492   54.58719049\n",
      "   54.58680951]\n",
      " [ 54.47990716  54.48046719  54.48105206 ...,  54.58669811  54.58632547\n",
      "   54.58593055]\n",
      " ..., \n",
      " [ 54.54039504  54.53912189  54.53784389 ...,  54.39897312  54.39760172\n",
      "   54.39623271]\n",
      " [ 54.53861496  54.53731661  54.53601233 ...,  54.39989895  54.39851928\n",
      "   54.39714202]\n",
      " [ 54.53676944  54.53544559  54.53411482 ...,  54.40085372  54.39946594\n",
      "   54.39808059]],\n",
      "             mask =\n",
      " False,\n",
      "       fill_value = 1e+20)\n",
      ", masked_array(data =\n",
      " [[ 11.36382029  11.36544527  11.36705548 ...,  11.34473341  11.34332943\n",
      "   11.34192654]\n",
      " [ 11.36238317  11.36401332  11.3656288  ...,  11.34320074  11.34179687\n",
      "   11.34039432]\n",
      " [ 11.36094385  11.36257915  11.36419991 ...,  11.34166778  11.34026416\n",
      "   11.33886208]\n",
      " ..., \n",
      " [ 11.2528408   11.25291029  11.25297162 ...,  11.28828581  11.28860909\n",
      "   11.28892997]\n",
      " [ 11.25321293  11.25325226  11.25328173 ...,  11.28910494  11.2894373\n",
      "   11.28976705]\n",
      " [ 11.25349915  11.2535056   11.25350037 ...,  11.28989124  11.29023317\n",
      "   11.29057226]],\n",
      "             mask =\n",
      " False,\n",
      "       fill_value = 1e+20)\n",
      ")\n",
      "finished image pair (0, 0)\n",
      "finished image 1 of camera 0\n",
      "<class 'numpy.ndarray'>\n",
      "finished image 1 of camera 1\n",
      "<class 'numpy.ndarray'>\n"
     ]
    }
   ],
   "source": [
    "t = 0\n",
    "for keys in key_pair:\n",
    "    i = 0\n",
    "    clouds = []\n",
    "    for k in keys:\n",
    "        img = cams[i][k]\n",
    "        if i==0:\n",
    "            img.loadTimefromfilename('FE3_Image_%Y%m%d_%H%M%S_UTCp1.jpg')\n",
    "        else:\n",
    "            img.loadTimefromfilename('FE4_Image_%Y%m%d_%H%M%S_UTCp1.jpg')\n",
    "        scipy.misc.imsave(\n",
    "            os.path.join(plot_dir, \"rectified_{0:d}_{1:d}.png\".format(i, k)),\n",
    "            img.image)\n",
    "        image_lcn = pyclamster.Image(img)\n",
    "        image_lcn.data = LCN(size=(50, 50, 3), scale=False).fit_transform(\n",
    "            image_lcn.data / 256)\n",
    "        w, h, _ = original_shape = image_lcn.data.shape\n",
    "        raw_image_lcn = rbDetection(image_lcn.data).reshape((w * h, -1))\n",
    "        label = predictor.predict(raw_image_lcn)\n",
    "        label.reshape((w, h), replace=True)\n",
    "        scipy.misc.imsave(\n",
    "            os.path.join(plot_dir, \"lables_kmean_{0:d}_{1:d}.png\".format(i, k)),\n",
    "            label.labels)\n",
    "        masks = label.getMaskStore()\n",
    "        cloud_mask_num = [1] # cloud - sky choose right number (0 or 1)\n",
    "        masks.denoise(cloud_mask_num,\n",
    "                      5000)\n",
    "        cloud_labels_object, numLabels = masks.labelMask(cloud_mask_num)\n",
    "        scipy.misc.imsave(\n",
    "            os.path.join(plot_dir, \"labl\"\n",
    "                                   \"es_used_{0:d}_{1:d}.png\".format(i, k)),\n",
    "            cloud_labels_object.labels)\n",
    "        cloud_store = cloud_labels_object.getMaskStore()\n",
    "        cloud_lables = [l + 1 for l in range(numLabels)]\n",
    "        clouds.append([cloud_store.getCloud(img, [k, ]) for k in cloud_lables])\n",
    "        j = 0\n",
    "        #print(clouds[i])\n",
    "        for cloud in clouds[i]:\n",
    "            scipy.misc.imsave(\n",
    "                os.path.join(plot_dir, 'template_cloud_{0:d}_{1:d}_{2:d}.png'.format(i, k, j)),\n",
    "                cloud.image.data)\n",
    "            j += 1\n",
    "        print('finished image {0:d} of camera {1:d}'.format(k, i))\n",
    "        i += 1\n",
    "        print(type(clouds[0][0].image.data))\n",
    "    if not(not clouds[0] or not clouds[1]):\n",
    "        matching_result, _ = matching.matching(clouds[0], clouds[1], min_match_prob=0.5)\n",
    "        t = 0\n",
    "        for result in matching_result:\n",
    "            fig = plt.figure()\n",
    "            ax = plt.subplot(1,3,1)\n",
    "            ax.axis('off')\n",
    "            ax.imshow(result[1].clouds[0].image.data)\n",
    "            ax = plt.subplot(1,3,2)\n",
    "            ax.axis('off')\n",
    "            ax.imshow(result[0].prop_map, interpolation='nearest')\n",
    "            ax = plt.subplot(1,3,3)\n",
    "            ax.axis('off')\n",
    "            ax.imshow(result[1].clouds[1].image.data)\n",
    "            plt.tight_layout()\n",
    "            plt.savefig(os.path.join(plot_dir, 'matching_{0:s}_{1:d}.png'.format(str(keys), t)))\n",
    "            spatial_cloud = result[1]\n",
    "            spatial_cloud.calc_overlapping()\n",
    "            spatial_cloud.calc_position()\n",
    "            spatial_cloud.write2kml(kml_file)\n",
    "            kml_file.save(os.path.join(trained_models, 'clouds.kml'))\n",
    "            print(Projection().xy2lonlat(spatial_cloud.positions.x, spatial_cloud.positions.y))\n",
    "            t+=1\n",
    "    print('finished image pair {0:s}'.format(str(keys)))\n"
   ]
  },
  {
   "cell_type": "code",
   "execution_count": null,
   "metadata": {
    "collapsed": true
   },
   "outputs": [],
   "source": [
    "kml_file.save(os.path.join(trained_models, 'clouds.kml'))"
   ]
  }
 ],
 "metadata": {
  "anaconda-cloud": {},
  "kernelspec": {
   "display_name": "Python [Root]",
   "language": "python",
   "name": "Python [Root]"
  },
  "language_info": {
   "codemirror_mode": {
    "name": "ipython",
    "version": 3
   },
   "file_extension": ".py",
   "mimetype": "text/x-python",
   "name": "python",
   "nbconvert_exporter": "python",
   "pygments_lexer": "ipython3",
   "version": "3.5.2"
  }
 },
 "nbformat": 4,
 "nbformat_minor": 0
}
