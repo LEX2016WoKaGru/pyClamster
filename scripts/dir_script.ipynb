{
 "cells": [
  {
   "cell_type": "code",
   "execution_count": 1,
   "metadata": {
    "collapsed": false
   },
   "outputs": [],
   "source": [
    "%load_ext autoreload\n",
    "%autoreload 2\n",
    "# System modules\n",
    "import os\n",
    "import warnings\n",
    "import pickle\n",
    "import glob\n",
    "import sys\n",
    "import logging\n",
    "import datetime as dt\n",
    "\n",
    "# External modules\n",
    "import numpy as np\n",
    "import scipy.misc\n",
    "import matplotlib.pyplot as plt\n",
    "from matplotlib.backends.backend_pdf import PdfPages\n",
    "\n",
    "# Internal modules\n",
    "import pyclamster\n",
    "from pyclamster.clustering.preprocess import LCN\n",
    "from pyclamster.functions import rbDetection\n",
    "from pyclamster.positioning import Projection\n",
    "\n",
    "\n",
    "plt.style.use('fivethirtyeight')\n",
    "\n",
    "warnings.catch_warnings()\n",
    "warnings.filterwarnings('ignore')\n",
    "\n",
    "logging.basicConfig(level=logging.DEBUG)"
   ]
  },
  {
   "cell_type": "code",
   "execution_count": 2,
   "metadata": {
    "collapsed": false
   },
   "outputs": [],
   "source": [
    "FILE_DIR = %pwd\n",
    "BASE_DIR = os.path.dirname(FILE_DIR)\n",
    "\n",
    "image_directory = os.path.join(BASE_DIR, \"examples\", \"images\", \"lex\")\n",
    "trained_models = os.path.join(BASE_DIR, \"data\")\n",
    "plot_dir = os.path.join(BASE_DIR, 'plots')\n",
    "\n",
    "debug = True"
   ]
  },
  {
   "cell_type": "code",
   "execution_count": 3,
   "metadata": {
    "collapsed": false
   },
   "outputs": [
    {
     "name": "stdout",
     "output_type": "stream",
     "text": [
      "241.019564731\n"
     ]
    }
   ],
   "source": [
    "predictor = pickle.load(open(os.path.join(trained_models, \"kmeans.pk\"), \"rb\"))\n",
    "\n",
    "cams = []\n",
    "cams.append(pickle.load(open(os.path.join(trained_models, 'sessions', 'FE3_session_new.pk'), mode='rb')))\n",
    "cams.append(pickle.load(open(os.path.join(trained_models, 'sessions', 'FE4_session_new.pk'), mode='rb')))\n",
    "cams[0].set_images(os.path.join(image_directory, 'cam3'))\n",
    "cams[1].set_images(os.path.join(image_directory, 'cam4'))\n",
    "matching = pyclamster.matching.Matching()\n",
    "dist = np.sqrt((cams[0].position.x-cams[1].position.x)**2+(cams[0].position.y-cams[1].position.y)**2)\n",
    "print(dist)"
   ]
  },
  {
   "cell_type": "code",
   "execution_count": 4,
   "metadata": {
    "collapsed": false
   },
   "outputs": [],
   "source": [
    "def generate_doppel(images):\n",
    "    k = 0\n",
    "    clouds = []\n",
    "    for img in images:\n",
    "        image_lcn = pyclamster.Image(img)\n",
    "        image_lcn.data = LCN(size=(50, 50, 3), scale=False).fit_transform(\n",
    "            image_lcn.data / 256)\n",
    "        w, h, _ = original_shape = image_lcn.data.shape\n",
    "        raw_image_lcn = rbDetection(image_lcn.data).reshape((w * h, -1))\n",
    "        label = predictor.predict(raw_image_lcn)\n",
    "        label.reshape((w, h), replace=True)\n",
    "        masks = label.getMaskStore()\n",
    "        cloud_mask_num = [0] # cloud - sky choose right number (0 or 1)\n",
    "        masks.denoise(cloud_mask_num, 5000)\n",
    "        cloud_labels_object, numLabels = masks.wsMask(cloud_mask_num, np.ones((31,31)))\n",
    "        cloud_store = cloud_labels_object.getMaskStore()\n",
    "        cloud_lables = [l + 1 for l in range(numLabels)]\n",
    "        clouds.append([cloud_store.getCloud(img, [k, ]) for k in cloud_lables])\n",
    "        if debug:\n",
    "            j = 0\n",
    "            scipy.misc.imsave(\n",
    "                os.path.join(plot_dir, \"lables_kmean_{0:s}_{1:d}.png\".format(img.time.strftime('%Y%m%d%H%M'), k)),\n",
    "                             label.labels)\n",
    "            scipy.misc.imsave(\n",
    "                os.path.join(plot_dir, \"lables_used_{0:s}_{1:d}.png\".format(img.time.strftime('%Y%m%d%H%M'), k)),\n",
    "                             cloud_labels_object.labels)\n",
    "        print('finished image {0:s} of camera {1:d}'.format(img.time.strftime('%Y%m%d%H%M'), k))\n",
    "        k += 1\n",
    "    if not(not clouds[0] or not clouds[1]):\n",
    "        matching_result, _ = matching.matching(clouds[0], clouds[1], min_match_prob=0.95)\n",
    "        t = 0\n",
    "        for result in matching_result:\n",
    "            if debug:\n",
    "                fig = plt.figure()\n",
    "                ax = plt.subplot(1,3,1)\n",
    "                ax.axis('off')\n",
    "                ax.imshow(result[1].clouds[0].image.data)\n",
    "                ax = plt.subplot(1,3,2)\n",
    "                ax.axis('off')\n",
    "                ax.imshow(result[0].prob_map, interpolation='nearest')\n",
    "                ax = plt.subplot(1,3,3)\n",
    "                ax.axis('off')\n",
    "                ax.imshow(result[1].clouds[1].image.data)\n",
    "                plt.tight_layout()\n",
    "                plt.savefig(os.path.join(plot_dir, 'matching_{0:s}_{1:d}.png'.format(img.time.strftime('%Y%m%d%H%M'), t)))\n",
    "            spatial_cloud = result[1]\n",
    "            successful = spatial_cloud.oper_mode()\n",
    "            if successful:\n",
    "                fig = plt.figure()\n",
    "                ax = plt.subplot(1,3,1)\n",
    "                ax.axis('off')\n",
    "                ax.imshow(spatial_cloud.clouds[0].image.data)\n",
    "                ax = plt.subplot(1,3,2)\n",
    "                ax.axis('off')\n",
    "                z = spatial_cloud.positions.z\n",
    "                X, Y = np.meshgrid(range(z.shape[1]), range(z.shape[0]))\n",
    "                CS = ax.contour(X, Y, z)\n",
    "                manual_locations = [(-1, -1.4), (-0.62, -0.7), (-2, 0.5), (1.7, 1.2), (2.0, 1.4), (2.4, 1.7)]\n",
    "                plt.clabel(CS, inline=1, fontsize=10)\n",
    "                ax = plt.subplot(1,3,3)\n",
    "                ax.axis('off')\n",
    "                ax.imshow(spatial_cloud.clouds[1].image.data)\n",
    "                plt.tight_layout()\n",
    "                plt.savefig(os.path.join(plot_dir, 'height{0:s}_{1:d}.png'.format(img.time.strftime('%Y%m%d%H%M'), t)))\n",
    "                print(spatial_cloud.get_height())\n",
    "            t+=1"
   ]
  },
  {
   "cell_type": "code",
   "execution_count": 5,
   "metadata": {
    "collapsed": false
   },
   "outputs": [
    {
     "name": "stdout",
     "output_type": "stream",
     "text": [
      "finished image 201609011000 of camera 0\n",
      "finished image 201609011000 of camera 1\n",
      "1038.9745689\n",
      "finished image 201609011001 of camera 0\n",
      "finished image 201609011001 of camera 1\n",
      "-495.872372623\n",
      "-333.156114197\n",
      "51.0614760636\n",
      "-30.9495488734\n",
      "48.952034618\n",
      "14.2742136888\n",
      "2.79696269185\n",
      "finished image 201609011002 of camera 0\n",
      "finished image 201609011002 of camera 1\n",
      "464.001412056\n",
      "finished image 201609011003 of camera 0\n",
      "finished image 201609011003 of camera 1\n",
      "Traceback (most recent call last):\n",
      "  File \"/home/tfinn/anaconda3/lib/python3.5/site-packages/IPython/core/interactiveshell.py\", line 2885, in run_code\n",
      "    exec(code_obj, self.user_global_ns, self.user_ns)\n",
      "  File \"<ipython-input-5-cc07a7659ca8>\", line 10, in <module>\n",
      "    generate_doppel(images)\n",
      "  File \"<ipython-input-4-1cd32af065b9>\", line 30, in generate_doppel\n",
      "    matching_result, _ = matching.matching(clouds[0], clouds[1], min_match_prob=0.95)\n",
      "  File \"/home/tfinn/Projects/pyclamster/pyclamster/matching/matching.py\", line 85, in matching\n",
      "    mergedC[1].append(c.merge(clouds1, self.w))\n",
      "  File \"/home/tfinn/Projects/pyclamster/pyclamster/matching/cloud.py\", line 114, in merge\n",
      "    prob_map = ProbabilityMap(self, c, w)\n",
      "  File \"/home/tfinn/Projects/pyclamster/pyclamster/matching/matching.py\", line 116, in __init__\n",
      "    self.prob_map = self._calc_map()\n",
      "  File \"/home/tfinn/Projects/pyclamster/pyclamster/matching/matching.py\", line 168, in _calc_map\n",
      "    constant_values=0)\n",
      "  File \"/home/tfinn/anaconda3/lib/python3.5/site-packages/skimage/feature/template.py\", line 147, in match_template\n",
      "    np.multiply(image_window_sum, image_window_sum, out=image_window_sum)\n",
      "KeyboardInterrupt\n",
      "\n",
      "During handling of the above exception, another exception occurred:\n",
      "\n",
      "Traceback (most recent call last):\n",
      "  File \"/home/tfinn/anaconda3/lib/python3.5/site-packages/IPython/core/interactiveshell.py\", line 1827, in showtraceback\n",
      "    stb = value._render_traceback_()\n",
      "AttributeError: 'KeyboardInterrupt' object has no attribute '_render_traceback_'\n",
      "\n",
      "During handling of the above exception, another exception occurred:\n",
      "\n",
      "Traceback (most recent call last):\n",
      "  File \"/home/tfinn/anaconda3/lib/python3.5/site-packages/IPython/core/ultratb.py\", line 1120, in get_records\n",
      "    return _fixed_getinnerframes(etb, number_of_lines_of_context, tb_offset)\n",
      "  File \"/home/tfinn/anaconda3/lib/python3.5/site-packages/IPython/core/ultratb.py\", line 301, in wrapped\n",
      "    return f(*args, **kwargs)\n",
      "  File \"/home/tfinn/anaconda3/lib/python3.5/site-packages/IPython/core/ultratb.py\", line 346, in _fixed_getinnerframes\n",
      "    records = fix_frame_records_filenames(inspect.getinnerframes(etb, context))\n",
      "  File \"/home/tfinn/anaconda3/lib/python3.5/inspect.py\", line 1453, in getinnerframes\n",
      "    frameinfo = (tb.tb_frame,) + getframeinfo(tb, context)\n",
      "  File \"/home/tfinn/anaconda3/lib/python3.5/inspect.py\", line 1410, in getframeinfo\n",
      "    filename = getsourcefile(frame) or getfile(frame)\n",
      "  File \"/home/tfinn/anaconda3/lib/python3.5/inspect.py\", line 672, in getsourcefile\n",
      "    if getattr(getmodule(object, filename), '__loader__', None) is not None:\n",
      "  File \"/home/tfinn/anaconda3/lib/python3.5/inspect.py\", line 718, in getmodule\n",
      "    os.path.realpath(f)] = module.__name__\n",
      "  File \"/home/tfinn/anaconda3/lib/python3.5/posixpath.py\", line 372, in realpath\n",
      "    path, ok = _joinrealpath(filename[:0], filename, {})\n",
      "  File \"/home/tfinn/anaconda3/lib/python3.5/posixpath.py\", line 406, in _joinrealpath\n",
      "    if not islink(newpath):\n",
      "  File \"/home/tfinn/anaconda3/lib/python3.5/posixpath.py\", line 161, in islink\n",
      "    st = os.lstat(path)\n",
      "KeyboardInterrupt\n"
     ]
    },
    {
     "name": "stderr",
     "output_type": "stream",
     "text": [
      "ERROR: Internal Python error in the inspect module.\n",
      "Below is the traceback from this internal error.\n",
      "\n",
      "\n",
      "Unfortunately, your original traceback can not be constructed.\n",
      "\n"
     ]
    },
    {
     "ename": "KeyboardInterrupt",
     "evalue": "",
     "output_type": "error",
     "traceback": [
      "\u001b[1;31m---------------------------------------------------------------------------\u001b[0m"
     ]
    }
   ],
   "source": [
    "import logging\n",
    "logging.basicConfig(level=logging.DEBUG)\n",
    "images_available = True\n",
    "gens = [cams[0].iterate_over_rectified_images(), cams[1].iterate_over_rectified_images()]\n",
    "images = [next(gens[0]), next(gens[1])]\n",
    "while images_available:\n",
    "    for k, img in enumerate(images):\n",
    "        img.loadTimefromfilename('FE{0:d}_Image_%Y%m%d_%H%M%S_UTCp1.jpg'.format(k+3))\n",
    "    if (images[0].time-images[1].time).seconds<60:\n",
    "        generate_doppel(images)\n",
    "        try:\n",
    "            images = [next(gens[0]), next(gens[1])]\n",
    "        except:\n",
    "            images_available = False\n",
    "    elif images[0].time<images[1].time:\n",
    "        try:\n",
    "            images[0] = next(gens[0])\n",
    "        except:\n",
    "            images_available = False\n",
    "    elif images[0].time>images[1].time:\n",
    "        try:\n",
    "            images[1] = next(gens[1])\n",
    "        except:\n",
    "            images_available = False\n",
    "print('finished image processing')"
   ]
  },
  {
   "cell_type": "code",
   "execution_count": null,
   "metadata": {
    "collapsed": true
   },
   "outputs": [],
   "source": []
  }
 ],
 "metadata": {
  "anaconda-cloud": {},
  "kernelspec": {
   "display_name": "Python [Root]",
   "language": "python",
   "name": "Python [Root]"
  },
  "language_info": {
   "codemirror_mode": {
    "name": "ipython",
    "version": 3
   },
   "file_extension": ".py",
   "mimetype": "text/x-python",
   "name": "python",
   "nbconvert_exporter": "python",
   "pygments_lexer": "ipython3",
   "version": "3.5.2"
  }
 },
 "nbformat": 4,
 "nbformat_minor": 0
}
