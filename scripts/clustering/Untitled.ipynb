{
 "cells": [
  {
   "cell_type": "code",
   "execution_count": 6,
   "metadata": {},
   "outputs": [],
   "source": [
    "import keras\n",
    "from keras.models import Sequential\n",
    "from keras.layers import Input, Conv2D, MaxPooling2D, Dropout, merge, Activation\n",
    "from keras.layers.core import Merge"
   ]
  },
  {
   "cell_type": "code",
   "execution_count": null,
   "metadata": {},
   "outputs": [],
   "source": []
  },
  {
   "cell_type": "code",
   "execution_count": 5,
   "metadata": {},
   "outputs": [],
   "source": [
    "def base_model():\n",
    "    seq = Sequential()\n",
    "    seq.add(Conv2D(12, 5, 5, border_mode='same', input_shape=(3,512,512)))\n",
    "    seq.add(Activation('Relu'))\n",
    "    seq.add(Conv2D(24, 5, 5, border_mode='same'))\n",
    "    seq.add(Activation('Relu'))\n",
    "    seq.add(MaxPooling2D(strides=(1,1), border_mode='same'))\n",
    "    seq.add(Conv2D(48, 5, 5, border_mode='same'))\n",
    "    seq.add(Activation('Relu'))\n",
    "    seq.add(Conv2D(96, 5, 5, border_mode='same'))\n",
    "    seq.add(Activation('Relu'))\n",
    "    seq.add(MaxPooling2D(strides=(1,1), border_mode='same'))\n",
    "    return seq"
   ]
  },
  {
   "cell_type": "code",
   "execution_count": null,
   "metadata": {},
   "outputs": [],
   "source": [
    "def load_data():\n",
    "    pass"
   ]
  },
  {
   "cell_type": "code",
   "execution_count": null,
   "metadata": {},
   "outputs": [],
   "source": [
    "(X_train, y_train), (X_test, y_test) = load_data()\n",
    "input1 = Input(shape=(3,512,512))\n",
    "input2 = Input(shape=(3,512,512))\n",
    "base_network = base_model()\n",
    "processed_1 = base_network(input1)\n",
    "processed_2 = base_network(input2s)\n",
    "merged_model = Sequential()\n",
    "merged_model.add(Merge(layers=[processed_1, processed_2], mode='concat', concat_axis=1))\n",
    "merged_model.add(seq.add(Conv2D(48, 5, 5, border_mode='same')))\n",
    "merged_model.add(Activation('Relu'))\n",
    "merged_model.add(MaxPooling2D(strides=(1,1), border_mode='same'))\n",
    "merged_model.add(seq.add(Conv2D(96, 5, 5, border_mode='same')))\n",
    "merged_model.add(Activation('Relu'))\n",
    "merged_model.add(MaxPooling2D(strides=(1,1), border_mode='same'))\n",
    "merged_model"
   ]
  }
 ],
 "metadata": {
  "kernelspec": {
   "display_name": "Python 3",
   "language": "python",
   "name": "python3"
  },
  "language_info": {
   "codemirror_mode": {
    "name": "ipython",
    "version": 3
   },
   "file_extension": ".py",
   "mimetype": "text/x-python",
   "name": "python",
   "nbconvert_exporter": "python",
   "pygments_lexer": "ipython3",
   "version": "3.5.2"
  }
 },
 "nbformat": 4,
 "nbformat_minor": 0
}
