{
 "cells": [
  {
   "cell_type": "code",
   "execution_count": 2,
   "metadata": {
    "collapsed": false
   },
   "outputs": [],
   "source": [
    "import os.path\n",
    "import pandas as pd\n",
    "import clb\n",
    "import datetime as dt\n",
    "import numpy as np\n",
    "import matplotlib.pyplot as plt\n",
    "import typhon.plots\n",
    "import seaborn as sns\n",
    "\n",
    "plt.style.use('typhon')"
   ]
  },
  {
   "cell_type": "code",
   "execution_count": 3,
   "metadata": {
    "collapsed": false
   },
   "outputs": [],
   "source": [
    "BASE_DIR = '/home/tfinn/Data/Ceilometer'\n",
    "ceilo_first = clb.csv.read(os.path.join(BASE_DIR, 'LEX', 'CL_M10_first.txt'))\n",
    "ceilo_second = clb.csv.read(os.path.join(BASE_DIR, 'LEX', 'CL_M10_first.txt'))\n",
    "ceilo_first['DATETIME'] = np.array([dt.datetime.strptime('-'.join([D, ceilo_first['TIME'][k]]), '%d.%m.%Y-%H:%M') for k, D in enumerate(ceilo_first['DATE'])])\n",
    "ceilo_second['DATETIME'] = np.array([dt.datetime.strptime('-'.join([D, ceilo_second['TIME'][k]]), '%d.%m.%Y-%H:%M') for k, D in enumerate(ceilo_second['DATE'])])"
   ]
  },
  {
   "cell_type": "code",
   "execution_count": 14,
   "metadata": {
    "collapsed": false
   },
   "outputs": [],
   "source": [
    "ceilo = pd.DataFrame(ceilo_first).set_index('DATETIME')\n",
    "cam = pd.read_json('/home/tfinn/Projects/pyclamster/data/heights_201609010900_4h_300.json')\n",
    "ceilo.index = ceilo.index-dt.timedelta(hours=2)\n",
    "cam.index = cam.index-dt.timedelta(hours=1)\n",
    "cam[cam>8000] = np.NaN\n",
    "cam_min = cam.mean(axis=1)"
   ]
  },
  {
   "cell_type": "code",
   "execution_count": 15,
   "metadata": {
    "collapsed": false
   },
   "outputs": [
    {
     "data": {
      "text/html": [
       "<div>\n",
       "<table border=\"1\" class=\"dataframe\">\n",
       "  <thead>\n",
       "    <tr style=\"text-align: right;\">\n",
       "      <th></th>\n",
       "      <th>CL_SCHA_M10</th>\n",
       "      <th>CL_SCHB_M10</th>\n",
       "      <th>cloud camera</th>\n",
       "    </tr>\n",
       "  </thead>\n",
       "  <tbody>\n",
       "    <tr>\n",
       "      <th>CL_SCHA_M10</th>\n",
       "      <td>1.000000</td>\n",
       "      <td>0.493732</td>\n",
       "      <td>0.417173</td>\n",
       "    </tr>\n",
       "    <tr>\n",
       "      <th>CL_SCHB_M10</th>\n",
       "      <td>0.493732</td>\n",
       "      <td>1.000000</td>\n",
       "      <td>-0.057982</td>\n",
       "    </tr>\n",
       "    <tr>\n",
       "      <th>cloud camera</th>\n",
       "      <td>0.417173</td>\n",
       "      <td>-0.057982</td>\n",
       "      <td>1.000000</td>\n",
       "    </tr>\n",
       "  </tbody>\n",
       "</table>\n",
       "</div>"
      ],
      "text/plain": [
       "              CL_SCHA_M10  CL_SCHB_M10  cloud camera\n",
       "CL_SCHA_M10      1.000000     0.493732      0.417173\n",
       "CL_SCHB_M10      0.493732     1.000000     -0.057982\n",
       "cloud camera     0.417173    -0.057982      1.000000"
      ]
     },
     "execution_count": 15,
     "metadata": {},
     "output_type": "execute_result"
    }
   ],
   "source": [
    "ceilo_plt = ceilo.ix['2016/09/01 06:30':'2016/09/01 14:30', ['CL_SCHA_M10', 'CL_SCHB_M10']]\n",
    "ceilo_cam = pd.DataFrame()\n",
    "ceilo_cam = ceilo_plt\n",
    "ceilo_cam.ix[:, 'cloud camera'] = cam_min.resample('10min').mean()\n",
    "ceilo_cam.dropna().corr()"
   ]
  },
  {
   "cell_type": "code",
   "execution_count": null,
   "metadata": {
    "collapsed": false,
    "scrolled": true
   },
   "outputs": [
    {
     "name": "stderr",
     "output_type": "stream",
     "text": [
      "/home/tfinn/anaconda3/lib/python3.5/site-packages/statsmodels/nonparametric/kdetools.py:20: VisibleDeprecationWarning: using a non-integer number instead of an integer will result in an error in the future\n",
      "  y = X[:m/2+1] + np.r_[0,X[m/2+1:],0]*1j\n"
     ]
    }
   ],
   "source": [
    "fig, ax = plt.subplots()\n",
    "fig.suptitle('Ceilometer and cloud camera')\n",
    "c = ceilo_cam['CL_SCHA_M10'].plot(ax=ax, label='ceilo 1')\n",
    "c = ceilo_cam['CL_SCHB_M10'].plot(ax=ax, label='ceilo 2')\n",
    "s = ax.scatter(ceilo_cam.index, ceilo_cam['cloud camera'], c='r')\n",
    "plt.legend()\n",
    "ax.set_ylim(0,9000)\n",
    "ax.set_xlabel('Time 01/09/2016 in UTC+1')\n",
    "ax.set_ylabel('Height [m]')\n",
    "plt.tight_layout()\n",
    "plt.savefig('/home/tfinn/Desktop/ceilo_without.png')\n",
    "fig, ax = plt.subplots()\n",
    "fig.suptitle('Scatter ceilo/ cloud camera')\n",
    "g = sns.jointplot(\"CL_SCHA_M10\", \"cloud camera\", data=ceilo_cam, kind='reg',\n",
    "                  xlim=(0, 8000), ylim=(0, 8000), color=\"r\", size=8)\n",
    "plt.show()"
   ]
  },
  {
   "cell_type": "code",
   "execution_count": null,
   "metadata": {
    "collapsed": true
   },
   "outputs": [],
   "source": [
    "plt.savefig('/home/tfinn/Desktop/scatter_without.png')\n",
    "plt.close('all')"
   ]
  }
 ],
 "metadata": {
  "anaconda-cloud": {},
  "kernelspec": {
   "display_name": "Python [Root]",
   "language": "python",
   "name": "Python [Root]"
  },
  "language_info": {
   "codemirror_mode": {
    "name": "ipython",
    "version": 3
   },
   "file_extension": ".py",
   "mimetype": "text/x-python",
   "name": "python",
   "nbconvert_exporter": "python",
   "pygments_lexer": "ipython3",
   "version": "3.5.2"
  }
 },
 "nbformat": 4,
 "nbformat_minor": 0
}
