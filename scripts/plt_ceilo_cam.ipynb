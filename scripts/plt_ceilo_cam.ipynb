{
 "cells": [
  {
   "cell_type": "code",
   "execution_count": 2,
   "metadata": {
    "collapsed": false
   },
   "outputs": [],
   "source": [
    "import os.path\n",
    "import pandas as pd\n",
    "import clb\n",
    "import datetime as dt\n",
    "import numpy as np\n",
    "import matplotlib.pyplot as plt\n",
    "import typhon.plots\n",
    "import seaborn as sns\n",
    "\n",
    "plt.style.use('typhon')"
   ]
  },
  {
   "cell_type": "code",
   "execution_count": 3,
   "metadata": {
    "collapsed": false
   },
   "outputs": [],
   "source": [
    "BASE_DIR = '/home/tfinn/Data/Ceilometer'\n",
    "ceilo_first = clb.csv.read(os.path.join(BASE_DIR, 'LEX', 'CL_first.txt'))\n",
    "ceilo_second = clb.csv.read(os.path.join(BASE_DIR, 'LEX', 'CL.txt'))\n",
    "ceilo_first['DATETIME'] = np.array([dt.datetime.strptime('-'.join([D, ceilo_first['TIME'][k]]), '%d.%m.%Y-%H:%M') for k, D in enumerate(ceilo_first['DATE'])])\n",
    "ceilo_second['DATETIME'] = np.array([dt.datetime.strptime('-'.join([D, ceilo_second['TIME'][k]]), '%d.%m.%Y-%H:%M') for k, D in enumerate(ceilo_second['DATE'])])\n",
    "ceilo = pd.DataFrame(ceilo_first).set_index('DATETIME')\n",
    "ceilo.index = ceilo.index-dt.timedelta(hours=1)\n",
    "ceilo_plt = ceilo.ix['2016/09/01 06:30':'2016/09/01 14:30', ['CL_SCHA', 'CL_SCHB']]"
   ]
  },
  {
   "cell_type": "code",
   "execution_count": 18,
   "metadata": {
    "collapsed": false
   },
   "outputs": [],
   "source": [
    "cam = pd.read_json('/home/tfinn/Projects/pyclamster/data/heights_201609010900_4h_300_new.json')\n",
    "cam.index = cam.index-dt.timedelta(hours=1, seconds=20*60)\n",
    "cam[cam>8000] = np.NaN\n",
    "cam_min = cam.mean(axis=1)"
   ]
  },
  {
   "cell_type": "code",
   "execution_count": 19,
   "metadata": {
    "collapsed": false
   },
   "outputs": [
    {
     "data": {
      "text/html": [
       "<div>\n",
       "<table border=\"1\" class=\"dataframe\">\n",
       "  <thead>\n",
       "    <tr style=\"text-align: right;\">\n",
       "      <th></th>\n",
       "      <th>CL_SCHA</th>\n",
       "      <th>CL_SCHB</th>\n",
       "      <th>cloud camera</th>\n",
       "    </tr>\n",
       "  </thead>\n",
       "  <tbody>\n",
       "    <tr>\n",
       "      <th>CL_SCHA</th>\n",
       "      <td>1.000000</td>\n",
       "      <td>0.088992</td>\n",
       "      <td>-0.018244</td>\n",
       "    </tr>\n",
       "    <tr>\n",
       "      <th>CL_SCHB</th>\n",
       "      <td>0.088992</td>\n",
       "      <td>1.000000</td>\n",
       "      <td>0.433644</td>\n",
       "    </tr>\n",
       "    <tr>\n",
       "      <th>cloud camera</th>\n",
       "      <td>-0.018244</td>\n",
       "      <td>0.433644</td>\n",
       "      <td>1.000000</td>\n",
       "    </tr>\n",
       "  </tbody>\n",
       "</table>\n",
       "</div>"
      ],
      "text/plain": [
       "               CL_SCHA   CL_SCHB  cloud camera\n",
       "CL_SCHA       1.000000  0.088992     -0.018244\n",
       "CL_SCHB       0.088992  1.000000      0.433644\n",
       "cloud camera -0.018244  0.433644      1.000000"
      ]
     },
     "execution_count": 19,
     "metadata": {},
     "output_type": "execute_result"
    }
   ],
   "source": [
    "ceilo_cam = pd.DataFrame()\n",
    "ceilo_cam = ceilo_plt\n",
    "ceilo_cam.ix[:, 'cloud camera'] = cam_min.rolling(20, 10).mean()\n",
    "ceilo_cam.dropna().corr()"
   ]
  },
  {
   "cell_type": "code",
   "execution_count": 20,
   "metadata": {
    "collapsed": false
   },
   "outputs": [
    {
     "name": "stderr",
     "output_type": "stream",
     "text": [
      "/home/tfinn/anaconda3/lib/python3.5/site-packages/statsmodels/nonparametric/kdetools.py:20: VisibleDeprecationWarning: using a non-integer number instead of an integer will result in an error in the future\n",
      "  y = X[:m/2+1] + np.r_[0,X[m/2+1:],0]*1j\n"
     ]
    }
   ],
   "source": [
    "fig, ax = plt.subplots()\n",
    "fig.suptitle('Ceilometer and cloud camera')\n",
    "c = ceilo_cam['CL_SCHA'].plot(ax=ax, label='ceilo 1')\n",
    "c = ceilo_cam['CL_SCHB'].plot(ax=ax, label='ceilo 2')\n",
    "#for i in cam.columns:\n",
    "#    s = ax.scatter(cam.index, cam[i], c='r')\n",
    "s = ax.scatter(ceilo_cam.index, ceilo_cam['cloud camera'], c='r')\n",
    "plt.legend()\n",
    "ax.set_ylim(0,9000)\n",
    "ax.set_xlabel('Time 01/09/2016 in UTC+1')\n",
    "ax.set_ylabel('Height [m]')\n",
    "plt.tight_layout()\n",
    "plt.savefig('/home/tfinn/Desktop/ceilo_without.png')\n",
    "g = sns.jointplot(\"CL_SCHA\", \"cloud camera\", data=ceilo_cam, kind='reg',\n",
    "                  xlim=(0, 8000), ylim=(0, 8000), color=\"r\", size=8)\n",
    "plt.show()\n",
    "\n",
    "plt.savefig('/home/tfinn/Desktop/scatter_without.png')\n",
    "plt.close('all')"
   ]
  },
  {
   "cell_type": "code",
   "execution_count": null,
   "metadata": {
    "collapsed": true
   },
   "outputs": [],
   "source": []
  }
 ],
 "metadata": {
  "anaconda-cloud": {},
  "kernelspec": {
   "display_name": "Python [Root]",
   "language": "python",
   "name": "Python [Root]"
  },
  "language_info": {
   "codemirror_mode": {
    "name": "ipython",
    "version": 3
   },
   "file_extension": ".py",
   "mimetype": "text/x-python",
   "name": "python",
   "nbconvert_exporter": "python",
   "pygments_lexer": "ipython3",
   "version": "3.5.2"
  }
 },
 "nbformat": 4,
 "nbformat_minor": 0
}
